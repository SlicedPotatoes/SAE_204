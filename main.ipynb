{
 "cells": [
  {
   "cell_type": "markdown",
   "id": "f87c8766",
   "metadata": {},
   "source": [
    "# Rapport: SAÉ 2.04"
   ]
  },
  {
   "cell_type": "markdown",
   "id": "5f68747c",
   "metadata": {},
   "source": [
    "## 1 - Introduction"
   ]
  },
  {
   "cell_type": "markdown",
   "id": "6ad5e46b",
   "metadata": {},
   "source": [
    "Ce notebook vise à générer et analyser des cartes de contrôle à partir de données de capteurs d'une machine industrielle.\n",
    "- Générer des cartes de contrôle pour évaluer la qualité des capteurs.\n",
    "- Détecter les pannes potentielles à l'aide de règles basées sur des tests statistiques.\n",
    "- Étendre la base de données pour effectuer des statistiques sur le taux de pannes des capteurs"
   ]
  },
  {
   "cell_type": "markdown",
   "id": "e1ad18be",
   "metadata": {},
   "source": [
    "### 1.1 - Plan du rapport"
   ]
  },
  {
   "cell_type": "markdown",
   "id": "8ba13192",
   "metadata": {},
   "source": [
    "- 1 - Introduction\n",
    "    - 1.1 - Plan du rapport\n",
    "- 2 - Importation des bibliothèques et configuration\n",
    "- 3 - Cartes de contrôle\n",
    "    - 3.1 - Explication des fonctions Python et requêtes SQL\n",
    "        - 3.1.1 - Fonction getLastMeasure\n",
    "        - 3.1.2 - Fonction getDataControlCard\n",
    "        - 3.1.3 - Fonction getAvgAndStddevErrorValue\n",
    "        - 3.1.4 - Fonction showControlCard\n",
    "    - 3.2 Code Python\n",
    "    - 3.3 Carte de contrôle\n",
    "- 4 - Visualisation des marges d'erreur\n",
    "    - 4.1 - Explication des fonctions Python et requêtes SQL\n",
    "        - 4.1.1 - Fonction getErrorValues\n",
    "        - 4.1.2 - Fonction getAverageFromData\n",
    "        - 4.1.3 - Fonction getStddevFromData\n",
    "        - 4.1.4 - Fonction getDistributionByStdIntervals\n",
    "        - 4.1.5 - Fonction getPercentageInterval\n",
    "        - 4.1.6 - Fonction showDistribution\n",
    "    - 4.2 - Code Python\n",
    "    - 4.3 - Histogramme des répartitions\n",
    "    - 4.4 - Réponses aux questions\n",
    "    - 4.5 - Alternative pour répondre aux questions\n",
    "- 5 - p-valeur\n",
    "    - 5.1 - Explication des fonctions Python\n",
    "        - 5.1.1 - Fonction pExactlyKPointOutOfN\n",
    "        - 5.1.2 - Fonction pAtLeastKPointOutOfN\n",
    "    - 5.2 - Code Python\n",
    "    - 5.3 - Réponses aux questions\n",
    "    - 5.4 - Implémentation des règles\n",
    "        - 5.4.1 - Fonction kPointOnTheLastNOnTheSameSide\n",
    "        - 5.4.2 - Fonction kPointOnTheLastNOutsideInverval\n",
    "        - 5.4.3 - Code Python et implémentation des règles\n",
    "    - 5.5 - Proposition et implémentation d'une règle de détection de défaillance\n",
    "        - 5.5.1 - Proposition et calcul de la pvaleur de la règle\n",
    "        - 5.5.2 - Code Python de l'implémentation\n",
    "- 6 - Dérive et régression\n",
    "    - 6.1 - Explication des fonctions Python\n",
    "        - 6.1.1 - Fonction covariance\n",
    "        - 6.1.2 - Fonction regressionLine\n",
    "        - 6.1.3 - Fonction showControlCardWithRegressionLine\n",
    "    - 6.2 - Code Python\n",
    "    - 6.3 - Carte de contrôle avec droite de régression"
   ]
  },
  {
   "cell_type": "markdown",
   "id": "b7cf6337",
   "metadata": {},
   "source": [
    "## 2 - Importation des bibliothèques et configuration"
   ]
  },
  {
   "cell_type": "markdown",
   "id": "4929b79c",
   "metadata": {},
   "source": [
    "Le code ci-dessous permet d'importer les bibliothèques utilisées dans le projet, configurer la connexion à la base de données et également choisir le capteur qui sera étudié.\n",
    "\n",
    "La variable `id_sensor` est une constante permettant de sélectionner le capteur étudié."
   ]
  },
  {
   "cell_type": "code",
   "execution_count": 729,
   "id": "18cffba3",
   "metadata": {},
   "outputs": [],
   "source": [
    "import psycopg\n",
    "import matplotlib.pyplot as plt\n",
    "import matplotlib.colors as mcolors\n",
    "import numpy\n",
    "from datetime import timedelta, datetime\n",
    "import math\n",
    "\n",
    "plt.style.use('seaborn-v0_8')\n",
    "\n",
    "# Connexion settings\n",
    "conn_settings = {\n",
    "  \"host\": \"localhost\",\n",
    "  \"dbname\": \"db\",\n",
    "  \"user\": \"postgres\",\n",
    "  \"password\": \"patate360\",\n",
    "  \"port\": 5432\n",
    "}\n",
    "\n",
    "conn = psycopg.connect(**conn_settings)\n",
    "\n",
    "id_sensor = 1 # Constant to select the sensor\n",
    "\n",
    "# Check if the sensor exists in the database\n",
    "sql = \"\"\"\n",
    "SELECT * FROM Sensor WHERE sensorid = %(id)s \n",
    "\"\"\"\n",
    "\n",
    "param = {\"id\": id_sensor}\n",
    "\n",
    "with conn.execute(sql, param) as cur:\n",
    "  row = cur.fetchone()\n",
    "  if(row == None):\n",
    "    raise Exception(\"No sensor associated with this id\")"
   ]
  },
  {
   "cell_type": "markdown",
   "id": "4ab90216",
   "metadata": {},
   "source": [
    "## 3 - Cartes de contrôle"
   ]
  },
  {
   "cell_type": "markdown",
   "id": "8b02db73",
   "metadata": {},
   "source": [
    "Cette section correspond à la partie **1 - Cartes de contrôle** du sujet de la SAÉ.\n",
    "L'objectif est de générer une carte de contrôle pour le capteur sélectionné, sur celle-ci on doit retrouver:\n",
    "- La courbe de l'évolution de la **valeur d'erreur** (différence entre la valeur mesurée manuellement et automatiquement) dans le temps, pour les 8 derniers jours avec un maximum de 100 points et au minimum 20 points (pouvant étendre la plage des 8 derniers jours).\n",
    "- La moyenne *µ* de la valeur d'erreur sur l'ensemble des points de la base de données pour le capteur choisi\n",
    "- La **limite de contrôle supérieure** (ou **UCL** pour *Upper Control Limit*) calculée avec la formule: $µ + 2σ$\n",
    "- La **limite de contrôle inférieur** (ou **LCL** pour *Lower Control Limit*) calculée avec la formule: $µ - 2σ$\n",
    "\n",
    "$[UCL, LCL]$ représente l'intervalle de confiance dans lequel les valeurs d'erreur doivent se trouver."
   ]
  },
  {
   "cell_type": "markdown",
   "id": "d17f39b8",
   "metadata": {},
   "source": [
    "### 3.1 - Explication des fonctions Python et requêtes SQL"
   ]
  },
  {
   "cell_type": "markdown",
   "id": "45c3e792",
   "metadata": {},
   "source": [
    "#### 3.1.1 - Fonction getLastMeasure"
   ]
  },
  {
   "cell_type": "markdown",
   "id": "364d1b1f",
   "metadata": {},
   "source": [
    "Cette fonction permet de retourner la date et l'heure de la dernière mesure effectuée sur le capteur sélectionné.\n",
    "\n",
    "Elle utilise la requête SQL suivante:\n",
    "\n",
    "```sql\n",
    "SELECT max(controltimestamp) FROM controlMeasurement\n",
    "WHERE sensorid = %(id)s \n",
    "```\n",
    "\n",
    "Cette requête récupère les lignes de la table `ControlMeasurement`, applique une **restriction** sur `sensorid` pour travailler seulement sur les lignes du capteur concerné et utilise la **fonction d'agrégat** `MAX` sur la colonne `controlTimestamp` dans la **projection** pour identifier le timestamp le plus récent."
   ]
  },
  {
   "cell_type": "markdown",
   "id": "493dfaff",
   "metadata": {},
   "source": [
    "#### 3.1.2 - Fonction getDataControlCard"
   ]
  },
  {
   "cell_type": "markdown",
   "id": "552ffb13",
   "metadata": {},
   "source": [
    "Cette fonction permet de retourner les valeurs d'erreur affichées sur la carte de contrôle.\n",
    "\n",
    "Elle utilise la requête SQL suivante:\n",
    "\n",
    "```sql\n",
    "SELECT controlValue - sensorValue, controltimestamp\n",
    "FROM ControlMeasurement cm\n",
    "JOIN SensorMeasurement sm ON cm.sensorid = sm.sensorid AND cm.sensortimestamp = sm.timestamp\n",
    "WHERE cm.sensorid = %(id)s\n",
    "ORDER BY controltimestamp DESC\n",
    "LIMIT 100\n",
    "```\n",
    "\n",
    "Cette requête effectue une **jointure interne** entre les tables `ControlMeasurement` et `SensorMeasurement` pour récupérer la mesure manuelle associée à la mesure automatique. Une **restriction** est appliquée sur `sensorid` pour ne conserver que les données liées au capteur spécifié. La **projection** calcule la valeur de l'erreur tout en incluant `controlTimestamp`. Les résultats sont triés par ordre décroissant de `controlTimestamp` et limités aux 100 premières lignes pour obtenir les 100 dernières valeurs d'erreur.\n",
    "\n",
    "Pour respecter la contrainte de n'afficher qu'au minimum 20 points sur la carte de contrôle, on utilise la condition d'arrêt suivante en Python pour itéré sur les résultats de notre requête:\n",
    "\n",
    "```python\n",
    "line != None and (line[1] >= limitDays or len(rows) < 20)\n",
    "```\n",
    "\n",
    "- `line` est la ligne actuelle à traiter de la requête, on vérifie que celle-ci n'est pas None pour éviter de déclencher une exception dans notre code si la base ne contient pas assez de données.\n",
    "- `line[1]` est le timestamp de la mesure manuelle effectuée et `limitDays` la date de la dernière mesure à laquelle on a soustrait 8 jours. On vérifie que `line[1]` est supérieur ou égal à `limitDays` pour respecter l'intervalle des 8 derniers jours.\n",
    "- `rows` est le tableau qui contient les valeurs de sortie de la fonction, si elle ne contient pas au minimum 20 éléments, on continue d'itérer sur les données même si le `line[1]` est inférieur à `limitDays`."
   ]
  },
  {
   "cell_type": "markdown",
   "id": "8192a0b3",
   "metadata": {},
   "source": [
    "#### 3.1.3 - Fonction getAvgAndStddevErrorValue"
   ]
  },
  {
   "cell_type": "markdown",
   "id": "5b99abce",
   "metadata": {},
   "source": [
    "Cette fonction permet de retourner la moyenne et l'écart-type de la valeur de l'erreur pour le capteur sélectionné.\n",
    "\n",
    "Elle utilise la requête SQL suivante:\n",
    "\n",
    "```sql\n",
    "SELECT avg(controlValue - sensorValue), stddev(controlValue - sensorValue)\n",
    "FROM ControlMeasurement cm\n",
    "JOIN SensorMeasurement sm ON cm.sensorid = sm.sensorid AND cm.sensortimestamp = sm.timestamp\n",
    "WHERE cm.sensorid = %(id)s;\n",
    "```\n",
    "\n",
    "Cette requête effectue une **jointure interne** entre les tables `ControlMeasurement` et `SensorMeasurement` pour récupérer la mesure manuelle associée à la mesure automatique. Une **restriction** est appliquée sur `sensorid` pour ne conserver que les données liées au capteur spécifié. Les **fonctions d'agrégat** `AVG` et `STDDEV` dans la **projection** calcule respectivement la moyenne et l'écart-type de la valeur de l'erreur."
   ]
  },
  {
   "cell_type": "markdown",
   "id": "ff40516c",
   "metadata": {},
   "source": [
    "#### 3.1.4 - Fonction showControlCard"
   ]
  },
  {
   "cell_type": "markdown",
   "id": "ce0d9038",
   "metadata": {},
   "source": [
    "Cette fonction affiche la carte de contrôle en utilisant matplotlib\n",
    "\n",
    "Elle est séparée en 4 sections:\n",
    "- La récupération des données, en utilisant les fonctions précédentes.\n",
    "- Le formatage des données au bon format pour tracer la courbe\n",
    "- Le traçage des différentes courbes\n",
    "- Les ajustements visuels du rendu"
   ]
  },
  {
   "cell_type": "markdown",
   "id": "56cd7bb1",
   "metadata": {},
   "source": [
    "### 3.2 Code Python"
   ]
  },
  {
   "cell_type": "code",
   "execution_count": 730,
   "id": "b0d39728",
   "metadata": {},
   "outputs": [],
   "source": [
    "\"\"\"\n",
    "Get the last manual measurement for the selected sensor\n",
    "\n",
    ":return: datetime with the last measure\n",
    "\"\"\"\n",
    "def getLastMeasure()->datetime: \n",
    "  sql = \"\"\"\n",
    "  SELECT max(controltimestamp)\n",
    "  FROM controlMeasurement\n",
    "  WHERE sensorid = %(id)s\n",
    "  \"\"\"\n",
    "\n",
    "  param = {\"id\": id_sensor}\n",
    "\n",
    "  with conn.execute(sql, param) as cur:\n",
    "    return cur.fetchone()[0]\n",
    "\n",
    "\"\"\"\n",
    "Get the error values for the last 8 days up to a limit of 100 items, \n",
    "and if the number of items is less than 20, extend the period bayond 8 days.\n",
    "Each error value is associated with the time the measurements were made\n",
    "\n",
    ":return: list[tuple[float, datetime]] Each tuple contains the erreur value and the timestamp corresponding to the measurement time\n",
    "\"\"\"\n",
    "def getDataControlCard()->list[tuple[float, datetime]]: \n",
    "  # Used to retrieve values within an 8 days interval from the last measurement\n",
    "  limit_days = getLastMeasure() - timedelta(days = 8)\n",
    "\n",
    "  sql = \"\"\"\n",
    "  SELECT controlValue - sensorValue, controltimestamp\n",
    "  FROM ControlMeasurement cm\n",
    "  JOIN SensorMeasurement sm ON cm.sensorid = sm.sensorid AND cm.sensortimestamp = sm.timestamp\n",
    "  WHERE cm.sensorid = %(id)s\n",
    "  ORDER BY controltimestamp DESC\n",
    "  LIMIT 100\n",
    "  \"\"\"\n",
    "\n",
    "  param = {\"id\": id_sensor}\n",
    "\n",
    "  with conn.execute(sql, param) as cur:\n",
    "    rows = []\n",
    "    line = cur.fetchone()\n",
    "    \n",
    "    # Guarantee at least 20 points, even if the last 8 days don't have enough data\n",
    "    while(line != None and (line[1] >= limit_days or len(rows) < 20)):\n",
    "      rows.append(line)\n",
    "      line = cur.fetchone()\n",
    "\n",
    "    # Reverse the list to have the data in the correct order\n",
    "    rows.reverse()\n",
    "    return rows\n",
    "\n",
    "\"\"\"\n",
    "Get the average and stddev of the erreur values\n",
    "\n",
    ":return: tuple[float, float] where tuple[0] is avg and tuple[1] is stddev\n",
    "\"\"\"\n",
    "def getAvgAndStddevErrorValue()->tuple[float, float]:\n",
    "  sql = \"\"\"\n",
    "    SELECT avg(controlValue - sensorValue), stddev(controlValue - sensorValue)\n",
    "    FROM ControlMeasurement cm\n",
    "    JOIN SensorMeasurement sm ON cm.sensorid = sm.sensorid AND cm.sensortimestamp = sm.timestamp\n",
    "    WHERE cm.sensorid = %(id)s;\n",
    "  \"\"\"\n",
    "\n",
    "  param = {\"id\": id_sensor}\n",
    "\n",
    "  with conn.execute(sql, param) as cur:\n",
    "    return cur.fetchone()\n",
    "\n",
    "\"\"\"\n",
    "Show control chart\n",
    "\"\"\" \n",
    "def showControlCard()->None:\n",
    "  # Get data needed for display\n",
    "  data = getDataControlCard()\n",
    "  avg, stddev = getAvgAndStddevErrorValue()\n",
    "\n",
    "  # Format the data\n",
    "  x = []\n",
    "  y = []\n",
    "  for el in data:\n",
    "    y.append(el[0])\n",
    "    x.append(el[1])\n",
    "\n",
    "  # Show Data\n",
    "  plt.figure(figsize=(12, 8))\n",
    "  plt.plot(x, y, label='Error values', marker='o')\n",
    "  plt.plot([data[0][1], data[-1][1]], [avg, avg], label='Average')\n",
    "  plt.plot([data[0][1], data[-1][1]], [avg + 2 * stddev, avg + 2 * stddev], c=\"Red\", lw=2, ls='--' , label='Upper Control Limit')\n",
    "  plt.plot([data[0][1], data[-1][1]], [avg - 2 * stddev, avg - 2 * stddev], c=\"Black\", lw=2, ls='--', label='Lower Control Limit')\n",
    "  \n",
    "  # Visualization Enhancements\n",
    "  plt.title('Control Chart Sensor #' + str(id_sensor))\n",
    "  plt.xlabel('Time')\n",
    "  plt.ylabel('Error measurement')\n",
    "  plt.legend(bbox_to_anchor=(1, 1)) # Place the legend outside the chart\n",
    "  plt.xticks(rotation=30) # For better readability"
   ]
  },
  {
   "cell_type": "markdown",
   "id": "e605a1cb",
   "metadata": {},
   "source": [
    "### 3.3 - Carte de contrôle"
   ]
  },
  {
   "cell_type": "code",
   "execution_count": 731,
   "id": "00a837b5",
   "metadata": {},
   "outputs": [
    {
     "data": {
      "image/png": "[encoded data removed]",
      "text/plain": [
       "<Figure size 1200x800 with 1 Axes>"
      ]
     },
     "metadata": {},
     "output_type": "display_data"
    }
   ],
   "source": [
    "showControlCard()"
   ]
  },
  {
   "cell_type": "markdown",
   "id": "be01509c",
   "metadata": {},
   "source": [
    "## 4 - Visualisation des marges d'erreur"
   ]
  },
  {
   "cell_type": "markdown",
   "id": "99c7a340",
   "metadata": {},
   "source": [
    "### 4.1 - Explication des fonctions Python et requêtes SQL"
   ]
  },
  {
   "cell_type": "markdown",
   "id": "009ed9bc",
   "metadata": {},
   "source": [
    "#### 4.1.1 - Fonction getErrorValues"
   ]
  },
  {
   "cell_type": "markdown",
   "id": "3134e848",
   "metadata": {},
   "source": [
    "Cette fonction permet de retourner l'ensemble des valeurs d'erreur pour un capteur.\n",
    "\n",
    "Elle utilise la requête SQL suivante:\n",
    "\n",
    "```sql\n",
    "SELECT controlValue - sensorValue\n",
    "FROM ControlMeasurement cm\n",
    "JOIN SensorMeasurement sm ON cm.sensorid = sm.sensorid AND cm.sensortimestamp = sm.timestamp\n",
    "WHERE cm.sensorid = %(id)s\n",
    "```\n",
    "\n",
    "Cette requête effectue une **jointure interne** entre les tables `ControlMeasurement` et `SensorMeasurement` pour récupérer la mesure manuelle associée à la mesure automatique. Une **restriction** est appliquée sur `sensorid` pour ne conserver que les données liées au capteur spécifié. La **projection** calcule la valeur de l'erreur."
   ]
  },
  {
   "cell_type": "markdown",
   "id": "07463b09",
   "metadata": {},
   "source": [
    "#### 4.1.2 - Fonction getAverageFromData"
   ]
  },
  {
   "cell_type": "markdown",
   "id": "f0dde46d",
   "metadata": {},
   "source": [
    "Cette fonction calcule la moyenne d'un ensemble de données passé en paramètre.\n",
    "\n",
    "Pour le calcul, elle applique la formule suivante: $\\bar{x} = \\frac{1}{n} \\displaystyle\\sum_{i=1}^n x_{i}$"
   ]
  },
  {
   "cell_type": "markdown",
   "id": "77adb209",
   "metadata": {},
   "source": [
    "#### 4.1.3 - Fonction getStddevFromData"
   ]
  },
  {
   "cell_type": "markdown",
   "id": "968cef10",
   "metadata": {},
   "source": [
    "Cette fonction calcule l'écart-type d'un ensemble de données passé en paramètre.\n",
    "\n",
    "Pour le calcul, elle applique la formule suivante: $\\sigma = \\sqrt{ \\frac{1}{n} \\displaystyle\\sum_{i=1}^n (x_{i}-\\bar{x})^2 } $\n",
    "\n",
    "Où $\\bar{x}$ représente la moyenne calculée avec la fonction `getAverageFromData`."
   ]
  },
  {
   "cell_type": "markdown",
   "id": "44006ec1",
   "metadata": {},
   "source": [
    "#### 4.1.4 - Fonction getDistributionByStdIntervals"
   ]
  },
  {
   "cell_type": "markdown",
   "id": "ddf6d452",
   "metadata": {},
   "source": [
    "Cette fonction calcule la distribution des valeurs d'un ensemble de données en fonction d'intervalles définis par des multiples de l'écart-type.\n",
    "Elle prend en paramètre les données `data` et un multiplicateur `factor`.\n",
    "\n",
    "`factor` permet de définir le plus grand multiplicateur de l'écart-type qui sert à créer les intervalles.\n",
    "\n",
    "La fonction commence par initialiser une liste de compteur `counts`, chacun a zéro.\n",
    "\n",
    "La liste est organisée comme suit:\n",
    "$([-\\sigma, 0], \\; ]0, \\sigma], \\; \\dots, \\; [-\\text{factor} \\cdot \\sigma, -(\\text{factor} - 1) \\cdot \\sigma[, \\; ](\\text{factor} - 1) \\cdot \\sigma, \\text{factor} \\cdot \\sigma], \\; < -\\text{factor} \\cdot \\sigma, \\; > \\text{factor} \\cdot \\sigma)$\n",
    "\n",
    "Avec `factor` = 3, on aurait la liste de compteur suivante: $([-\\sigma, 0], \\; ]0, \\sigma], \\; [-2 \\cdot \\sigma, - \\sigma[, \\; ]\\sigma, 2 \\cdot \\sigma], \\; [-3 \\cdot \\sigma, -2 \\cdot \\sigma[, \\; ]2 \\cdot \\sigma, 3 \\cdot \\sigma], \\; < -3 \\cdot \\sigma, \\; > 3 \\cdot \\sigma)$\n",
    "\n",
    "Elle itère sur chaque valeur de l'ensemble des données, à chaque itération elle calcule la division entière de la valeur absolue par l'écart-type qui est stockée dans la variable `interval_index`. Etant donné que les compteurs sont organisés par paire, si notre valeur est négative ou nulle, l'indice dans la liste est $interval\\_index \\times 2$ sinon il est $interval\\_index \\times 2 + 1$.\n",
    "\n",
    "Dans le cas où une valeur est un multiple de l'écart-type, on applique une correction sur `interval_index` en lui soustrayant 1, cela permet de garder nos intervalles inclusifs.\n",
    "\n",
    "Dans le cas où `interval_index` est supérieur ou égal à `facteur`, cela signifie que la valeur est hors de l'intervalle $[-\\text{factor} \\cdot \\sigma, \\text{factor} \\cdot \\sigma]$ et sera donc comptabilisée dans le compteur $< -\\text{factor} \\cdot \\sigma$ ou $> \\text{factor} \\cdot \\sigma$ en fonction de si elle est négative ou positive.\n",
    "\n",
    "A la fin, la fonction réorganise les résultats pour qu'ils soient exploitables plus facilement, elle va également calculer les proportions par rapport au nombre de données total.\n",
    "\n",
    "Le résultat final est organisé comme suit:\n",
    "$(< -\\text{factor} \\cdot \\sigma, \\; [-\\text{factor} \\cdot \\sigma, -(\\text{factor} - 1) \\cdot \\sigma[, \\; \\dots, \\; [-\\sigma, 0], \\; ]0, \\sigma], \\; \\dots, \\; ](\\text{factor} - 1) \\cdot \\sigma, \\text{factor} \\cdot \\sigma], \\; > \\text{factor} \\cdot \\sigma)$\n",
    "\n",
    "Dans la théorie, la somme des valeurs stockées dans la liste renvoyée par cette fonction est 1. Dans les faits, il peut y avoir des erreurs d'arrondi dues au fonctionnement interne des nombres à virgule flottante, mais le résultat de cette somme sera dans tous les cas très proche de 1."
   ]
  },
  {
   "cell_type": "markdown",
   "id": "9e2abaa4",
   "metadata": {},
   "source": [
    "#### 4.1.5 - Fonction getPercentageInterval"
   ]
  },
  {
   "cell_type": "markdown",
   "id": "bddb15b1",
   "metadata": {},
   "source": [
    "Cette fonction calcule le pourcentage des valeurs qui sont incluses et exclues de l'intervalle défini par $[-\\text{factor} \\cdot \\sigma, \\text{factor} \\cdot \\sigma]$.\n",
    "\n",
    "Elle prend en paramètre la liste des distributions générée par la fonction `getDistributionByStdIntervals` et un entier `factor` pour définir l'intervalle.\n",
    "\n",
    "Étant donné la structure des données renvoyées par la fonction `getDistributionByStdIntervals`, il est assez facile de trouver l'indice correspondant au début et à la fin de l'intervalle.\n",
    "\n",
    "La fonction effectue simplement la somme des valeurs comprises entre l'indice de départ et de fin, qui correspond donc aux valeurs comprises dans l'intervalle.\n",
    "Pour obtenir la proportion de valeurs exclues de l'intervalle, elle soustrait cette somme à 1."
   ]
  },
  {
   "cell_type": "markdown",
   "id": "6644a3a5",
   "metadata": {},
   "source": [
    "#### 4.1.6 - Fonction showDistribution"
   ]
  },
  {
   "cell_type": "markdown",
   "id": "66effb5d",
   "metadata": {},
   "source": [
    "Cette fonction affiche la distribution des valeurs d'erreur d'un capteur en utilisant matplotlib.\n",
    "\n",
    "Elle prend en paramètre un ensemble de données et un entier `factor` représentant l'intervalle étudié.\n",
    "\n",
    "Elle est séparée en 5 sections:\n",
    "- La récupération de la distribution, et la conversion de celle-ci en pourcentage\n",
    "- La génération des étiquettes affichée sur l'axe X\n",
    "- Le traçage de l'histogramme\n",
    "- L'affichage des pourcentages au-dessus des différentes barres\n",
    "- La gestion des différentes étiquettes, titres, etc"
   ]
  },
  {
   "cell_type": "markdown",
   "id": "116ea318",
   "metadata": {},
   "source": [
    "### 4.2 - Code Python"
   ]
  },
  {
   "cell_type": "code",
   "execution_count": 732,
   "id": "1c4a5ebe",
   "metadata": {},
   "outputs": [],
   "source": [
    "\"\"\"\n",
    "Get error values from the database\n",
    "\n",
    ":return: list[float]\n",
    "\"\"\"\n",
    "def getErrorValues()->list[float]:\n",
    "  sql = \"\"\"\n",
    "    SELECT controlValue - sensorValue\n",
    "    FROM ControlMeasurement cm\n",
    "    JOIN SensorMeasurement sm ON cm.sensorid = sm.sensorid AND cm.sensortimestamp = sm.timestamp\n",
    "    WHERE cm.sensorid = %(id)s\n",
    "  \"\"\"\n",
    "\n",
    "  param = {\"id\": id_sensor}\n",
    "\n",
    "  with conn.execute(sql, param) as cur:\n",
    "    return [row[0] for row in cur]\n",
    "  \n",
    "\"\"\"\n",
    "Calculate the average of the input data\n",
    "\n",
    ":data: list[float]\n",
    "\n",
    ":return: float\n",
    "\"\"\"\n",
    "def getAverageFromData(data:list[float])->float:\n",
    "  sum = 0\n",
    "\n",
    "  for value in data:\n",
    "    sum += value\n",
    "\n",
    "  return sum / len(data)\n",
    "\n",
    "\"\"\"\n",
    "Calculate the standard deviation of the input data\n",
    "\n",
    ":data: list[float]\n",
    "\n",
    ":return: float\n",
    "\"\"\"\n",
    "def getStddevFromData(data:list[float])->float:\n",
    "  avg = getAverageFromData(data)\n",
    "  sum = 0\n",
    "\n",
    "  for value in data:\n",
    "    sum += (value - avg) ** 2\n",
    "\n",
    "  return (sum / len(data)) ** 0.5\n",
    "\n",
    "\"\"\"\n",
    "Calculate the distribution of values in a data set based on intervals defined by multiples of the standard deviation.\n",
    "\n",
    ":data: list[float]\n",
    ":factor: int, maximum factor of the standard deviation to study\n",
    "\n",
    ":return: list[float]\n",
    "\"\"\"\n",
    "def getDistributionByStdIntervals(data:list[float], factor:int)->list[float]:\n",
    "  # Initialize a list of counters. The indexes correspond to intervals defined by multiples of the standard deviation.\n",
    "  # The structure is organized as follows:\n",
    "  # [ [-σ; 0], ]0; σ], ...,  [-factor*σ; -(factor-1)*σ[, ](factor-1)*σ; factor*σ], < -factor*σ, > factor*σ ]\n",
    "  counts = [0 for _ in range(factor * 2 + 2)]\n",
    "\n",
    "  std_dev = getStddevFromData(data)\n",
    "\n",
    "  # Loops through the data values to distribute them into the corresponding intervals.\n",
    "  for value in data:\n",
    "    # Determines the index of the interval corresponding to the value based on the standard deviation.\n",
    "    # The interval is calculated by taking the absolute value divided by the standard deviation.\n",
    "    interval_index = int(abs(value) // (std_dev))\n",
    "    # Corrects the index to avoid errors due to exact divisions (if the value is a multiple of the standard deviation).\n",
    "    if(abs(value) % std_dev == 0 and value != 0):\n",
    "      interval_index -= 1\n",
    "\n",
    "    # Updates the counter corresponding to the interval.\n",
    "    # If the index exceeds the limit define by \"factor\", increment the counter of out-of-bounds values.\n",
    "    if (interval_index >= factor):\n",
    "      counts[-1 if value > 0 else -2] += 1\n",
    "    else:\n",
    "      counts[interval_index * 2 + (1 if value > 0 else 0)] += 1\n",
    "\n",
    "  # Organize the results in the following order:\n",
    "  # [< -factor*σ, [-factor*σ; -(factor-1)*σ[, ..., [-σ; 0], ]0; σ], ..., ](factor-1)*σ; factor*σ], > factor*σ]\n",
    "  result = []\n",
    "  for i in range(len(counts) - 2, -1, -2):\n",
    "    result.append(counts[i] / len(data))\n",
    "  for i in range(1, len(counts), 2):\n",
    "    result.append(counts[i] / len(data))\n",
    "\n",
    "  return result\n",
    "\n",
    "\"\"\"\n",
    "Return the percentage of value included and excluded from the interval [-factor*σ; factor*σ] \n",
    "\n",
    ":distribution: list[float], obtained with the getDistributionByStdIntervals() function\n",
    ":factor: int\n",
    "\n",
    ":return: tuple[float, float] where the first element represents the proportion of values included in the interval and the second the proportion excluded\n",
    "\"\"\"\n",
    "def getPercentageInterval(distribution:list[float], factor:int)->tuple[float, float]:\n",
    "  if(factor <= 0):\n",
    "    raise Exception(\"The factor must be greater than 0\")\n",
    "  if(factor > (len(distribution) - 2) / 2):\n",
    "    raise Exception(\"The factor is greater than that used to generate the distribution\")\n",
    "  \n",
    "  factor -= 1\n",
    "  \n",
    "  index_start = len(distribution) // 2 - 1 - factor\n",
    "  index_end = len(distribution) // 2 + factor\n",
    "\n",
    "  res = 0\n",
    "\n",
    "  for i in range(index_start, index_end + 1, 1):\n",
    "    res += distribution[i]\n",
    "\n",
    "  return round(res * 100, 2), round((1 - res) * 100, 2)\n",
    "\n",
    "\"\"\"\n",
    "Display the histogram of data distributions\n",
    "\n",
    ":data: list[float]\n",
    ":factor: int\n",
    "\"\"\"\n",
    "def showDistribution(data:list[float], factor:int)->None:\n",
    "  # Get the distribution of values\n",
    "  distribution = getDistributionByStdIntervals(data, factor)\n",
    "  distribution = [round(value * 100, 2) for value in distribution]\n",
    "  x_pos = [i for i in range(len(distribution))]\n",
    "\n",
    "  # Generate the labels\n",
    "  labels = [str(-i) + 'σ' for i in range(factor, 0, -1)] + ['0'] + [str(i) + 'σ' for i in range(1, factor + 1)]\n",
    "\n",
    "  # Build the  histogram\n",
    "  plt.figure(figsize=(12, 8))\n",
    "  plt.bar(x_pos, distribution, width=1, align='edge', edgecolor='black')\n",
    "\n",
    "  # Show percentages above bars\n",
    "  for i, value in enumerate(distribution):\n",
    "    plt.text(i + 0.5, value + 0.2, str(value) + '%', ha='center', va='bottom')\n",
    "\n",
    "  # Label management\n",
    "  x_pos = [i for i in range(1, len(distribution))]\n",
    "  plt.xticks(ticks=x_pos, labels=labels)\n",
    "\n",
    "  plt.title(\"Distribution Sensor #\" + str(id_sensor))\n",
    "  plt.xlabel('Deviation')\n",
    "  plt.ylabel('Probability')"
   ]
  },
  {
   "cell_type": "markdown",
   "id": "67bcb028",
   "metadata": {},
   "source": [
    "### 4.3 - Histogramme des répartitions"
   ]
  },
  {
   "cell_type": "code",
   "execution_count": 733,
   "id": "1b9ec2d9",
   "metadata": {},
   "outputs": [
    {
     "data": {
      "image/png": "[encoded data removed]",
      "text/plain": [
       "<Figure size 1200x800 with 1 Axes>"
      ]
     },
     "metadata": {},
     "output_type": "display_data"
    }
   ],
   "source": [
    "data = getErrorValues()\n",
    "showDistribution(data, 3)"
   ]
  },
  {
   "cell_type": "markdown",
   "id": "3670c63f",
   "metadata": {},
   "source": [
    "### 4.4 - Réponses aux questions"
   ]
  },
  {
   "cell_type": "markdown",
   "id": "deb6d0a6",
   "metadata": {},
   "source": [
    "Les fonctions écrites plus haut permettent de répondre facilement aux questions 1 jusqu'à 4 dans la section \"2.1 Visualisation des marges d'erreur\" du sujet."
   ]
  },
  {
   "cell_type": "code",
   "execution_count": 734,
   "id": "b873de83",
   "metadata": {},
   "outputs": [
    {
     "name": "stdout",
     "output_type": "stream",
     "text": [
      "Question 2.1.1: Dans l'intervalle [-σ; σ], il y a 71.37% des points\n",
      "\tQuestion 2.1.4: En dehors de cet intervalle, il y a 28.63% des points\n",
      "\n",
      "Question 2.1.2: Dans l'intervalle [-2σ; 2σ], il y a 94.91% des points\n",
      "\tQuestion 2.1.4: En dehors de cet intervalle, il y a 5.09% des points\n",
      "\n",
      "Question 2.1.3: Dans l'intervalle [-3σ; 3σ], il y a 98.95% des points\n",
      "\tQuestion 2.1.4: En dehors de cet intervalle, il y a 1.05% des points\n",
      "\n"
     ]
    }
   ],
   "source": [
    "distribution = getDistributionByStdIntervals(data, 3)\n",
    "\n",
    "res_q1 = getPercentageInterval(distribution, 1)\n",
    "res_q2 = getPercentageInterval(distribution, 2)\n",
    "res_q3 = getPercentageInterval(distribution, 3)\n",
    "\n",
    "print(\"Question 2.1.1: Dans l'intervalle [-σ; σ], il y a \" + str(res_q1[0]) + \"% des points\")\n",
    "print(\"\\tQuestion 2.1.4: En dehors de cet intervalle, il y a \" + str(res_q1[1]) + \"% des points\\n\")\n",
    "print(\"Question 2.1.2: Dans l'intervalle [-2σ; 2σ], il y a \" + str(res_q2[0]) + \"% des points\")\n",
    "print(\"\\tQuestion 2.1.4: En dehors de cet intervalle, il y a \" + str(res_q2[1]) + \"% des points\\n\")\n",
    "print(\"Question 2.1.3: Dans l'intervalle [-3σ; 3σ], il y a \" + str(res_q3[0]) + \"% des points\")\n",
    "print(\"\\tQuestion 2.1.4: En dehors de cet intervalle, il y a \" + str(res_q3[1]) + \"% des points\\n\")\n"
   ]
  },
  {
   "cell_type": "markdown",
   "id": "13a42718",
   "metadata": {},
   "source": [
    "### 4.5 - Alternative pour répondre aux questions"
   ]
  },
  {
   "cell_type": "markdown",
   "id": "548250bc",
   "metadata": {},
   "source": [
    "Un moyen alternatif de répondre aux questions et d'utiliser une requête SQL combinant plusieurs vues pour parvenir au résultat souhaité.\n",
    "\n",
    "La première vue permet d'ajouter la valeur d'erreur sur chaque entrée de la table `controleMeasurement`.\n",
    "Elle effectue la **jointure interne** entre `controlMeasurement` et `sensorMeasurement` pour récupérer la mesure manuelle associée à la mesure automatique. Elle calcule dans la **projection** la valeur d'erreur.\n",
    "\n",
    "```sql\n",
    "WITH errorValues AS (\n",
    "    SELECT cm.*, (controlValue - sensorValue) as errorValue\n",
    "    FROM controlMeasurement AS cm\n",
    "    JOIN sensorMeasurement AS sm ON cm.sensorid = sm.sensorid AND cm.sensortimestamp = sm.timestamp\n",
    ")\n",
    "```\n",
    "\n",
    "La seconde vue permet de calculer l'écart-type de chaque capteur, elle utilise la vue précédente pour récupérer les valeurs d'erreur. L'**agrégation** sur la colonne `sensorid` permet de regrouper les lignes avec un `sensorid` commun. Dans la **projection**, on utilise la **fonction d'agrégat** `STDDEV` pour calculer l'écart-type de chaque capteur.\n",
    "\n",
    "```sql\n",
    "WITH std_devs AS (\n",
    "    SELECT sensorid, STDDEV(errorValue) as stddev\n",
    "    FROM errorValues\n",
    "    GROUP BY sensorid\n",
    ")\n",
    "```\n",
    "\n",
    "La troisième vue permet de récupérer le nombre d'entrées pour chaque capteur dans la table `controlMeasurement`. L'**agrégation** sur la colonne `sensorid` permet de regrouper les lignes avec un `sensorid` commun. Dans la **projection**, on utilise la **fonction d'agrégat** `COUNT` pour compter le nombre de lignes pour chaque capteur.\n",
    "\n",
    "```sql\n",
    "WITH totalEntry AS (\n",
    "    SELECT sensorid, COUNT(*) as count\n",
    "    FROM controlmeasurement\n",
    "    GROUP BY sensorid\n",
    ")\n",
    "```\n",
    "\n",
    "La quatrième et dernière vue utilise les trois vues précédentes pour calculer la probabilité qu'une valeur d'erreur est incluse ou exclue de l'intervalle $[\\text{lb} \\times \\sigma, \\text{ub} \\times \\sigma]$.\n",
    "Elle effectue des **jointures internes** entre `errorValues`, `std_devs` et `totalEntry`, applique une **restriction** pour ne conserver que les valeurs comprises dans l'intervalle. Dans la **projection**, on effectue les différents calculs:\n",
    "\n",
    "Probabilité d'être inclus dans l'intervalle: $\\frac { \\text{nbElementDansIntervalle} }{ \\text{nbElementTotal} } \\times 100$\n",
    "\n",
    "Probabilité d'être exclus de l'intervalle: $(1 - \\frac { \\text{nbElementDansIntervalle} }{ \\text{nbElementTotal} }) \\times 100$\n",
    "\n",
    "À noter l'utilisation de la fonction `cast`, celle-ci permet de changer le type de variable d'une colonne. La **fonction d'agrégat** `COUNT` renvoie un entier. Étant donné que l'on effectue la division entre deux entiers, le résultat était la division entière des deux nombres. Il suffisait de convertir un de nos deux opérandes pour l'éviter.\n",
    "\n",
    "```sql\n",
    "WITH probabilityRange AS (\n",
    "    SELECT sensorid, cast(COUNT(*) as numeric) / count * 100 as probabilityInside, (1 - cast(COUNT(*) as numeric) / count) * 100 as probabilityOutside\n",
    "    FROM errorValues\n",
    "    JOIN std_devs USING(sensorid)\n",
    "    JOIN totalEntry USING(sensorid)\n",
    "    WHERE errorValue >= %(lb)s*stddev AND errorValue <= %(ub)s*stddev\n",
    "    GROUP BY sensorid, count\n",
    ")\n",
    "```\n",
    "\n",
    "La requête principale récupère les données de la vue `probabilityRange` et fait une **restriction** pour conserver seulement le capteur qui nous intéresse.\n",
    "\n",
    "```sql\n",
    "SELECT *\n",
    "FROM probabilityRange\n",
    "WHERE sensorid = %(id)s\n",
    "```\n",
    "\n",
    "Cette fonction a l'avantage d'être plus modulaire que sa première version, on peut par exemple demander les résultats pour les valeurs comprises entre $[-0.5 \\cdot \\sigma, -0.2 \\cdot \\sigma]$, ce qui n'était pas possible avant."
   ]
  },
  {
   "cell_type": "code",
   "execution_count": 735,
   "id": "5444e1da",
   "metadata": {},
   "outputs": [
    {
     "name": "stdout",
     "output_type": "stream",
     "text": [
      "Question 2.1.1: Dans l'intervalle [-σ; σ], il y a 71.37% des points\n",
      "\tQuestion 2.1.4: En dehors de cet intervalle, il y a 28.63% des points\n",
      "\n",
      "Question 2.1.2: Dans l'intervalle [-2σ; 2σ], il y a 94.91% des points\n",
      "\tQuestion 2.1.4: En dehors de cet intervalle, il y a 5.09% des points\n",
      "\n",
      "Question 2.1.3: Dans l'intervalle [-3σ; 3σ], il y a 98.95% des points\n",
      "\tQuestion 2.1.4: En dehors de cet intervalle, il y a 1.05% des points\n",
      "\n"
     ]
    }
   ],
   "source": [
    "\"\"\"\n",
    "Return the percentage of value included and excluded from the interval [lower_bound*σ; upper_bound*σ] \n",
    "\n",
    ":lower_bound: float\n",
    ":upper_bound: float\n",
    "\n",
    ":return: tuple[float, float] where the first element represents the proportion of values included in the interval and the second the proportion excluded\n",
    "\"\"\"\n",
    "def getPercentageIntervalSQL(lower_bound:float, upper_bound:float)->tuple[float, float]:\n",
    "  if(lower_bound >= upper_bound):\n",
    "    raise Exception(\"lower_bound must be smaller than upper_bound\")\n",
    "\n",
    "  sql = \"\"\"\n",
    "    WITH errorValues AS (\n",
    "        SELECT cm.*, (controlValue - sensorValue) as errorValue\n",
    "        FROM controlMeasurement AS cm\n",
    "        JOIN sensorMeasurement AS sm ON cm.sensorid = sm.sensorid AND cm.sensortimestamp = sm.timestamp\n",
    "    ),\n",
    "    std_devs AS (\n",
    "        SELECT sensorid, STDDEV(errorValue) as stddev\n",
    "        FROM errorValues\n",
    "        GROUP BY sensorid\n",
    "    ),\n",
    "    totalEntry AS (\n",
    "        SELECT sensorid, COUNT(*) as count\n",
    "        FROM controlmeasurement\n",
    "        GROUP BY sensorid\n",
    "    ),\n",
    "    probabilityRange AS (\n",
    "        SELECT sensorid, cast(COUNT(*) as numeric) / count * 100 as probabilityInside, (1 - cast(COUNT(*) as numeric) / count) * 100 as probabilityOutside\n",
    "        FROM errorValues\n",
    "        JOIN std_devs USING(sensorid)\n",
    "        JOIN totalEntry USING(sensorid)\n",
    "        WHERE errorValue >= %(lb)s*stddev AND errorValue <= %(ub)s*stddev\n",
    "        GROUP BY sensorid, count\n",
    "    )\n",
    "    SELECT probabilityInside, probabilityOutside\n",
    "    FROM probabilityRange\n",
    "    WHERE sensorid = %(id)s\n",
    "  \"\"\"\n",
    "\n",
    "  param = {\"id\": id_sensor, \"lb\": lower_bound, \"ub\": upper_bound}\n",
    "\n",
    "  with conn.execute(sql, param) as cur:\n",
    "    row = cur.fetchone()\n",
    "\n",
    "    if(row == None):\n",
    "      return -1, -1\n",
    "\n",
    "    return round(row[0], 2), round(row[1], 2)\n",
    "  \n",
    "res_q1 = getPercentageIntervalSQL(-1, 1)\n",
    "res_q2 = getPercentageIntervalSQL(-2, 2)\n",
    "res_q3 = getPercentageIntervalSQL(-3, 3)\n",
    "\n",
    "print(\"Question 2.1.1: Dans l'intervalle [-σ; σ], il y a \" + str(res_q1[0]) + \"% des points\")\n",
    "print(\"\\tQuestion 2.1.4: En dehors de cet intervalle, il y a \" + str(res_q1[1]) + \"% des points\\n\")\n",
    "print(\"Question 2.1.2: Dans l'intervalle [-2σ; 2σ], il y a \" + str(res_q2[0]) + \"% des points\")\n",
    "print(\"\\tQuestion 2.1.4: En dehors de cet intervalle, il y a \" + str(res_q2[1]) + \"% des points\\n\")\n",
    "print(\"Question 2.1.3: Dans l'intervalle [-3σ; 3σ], il y a \" + str(res_q3[0]) + \"% des points\")\n",
    "print(\"\\tQuestion 2.1.4: En dehors de cet intervalle, il y a \" + str(res_q3[1]) + \"% des points\\n\")"
   ]
  },
  {
   "cell_type": "markdown",
   "id": "3225f3f9",
   "metadata": {},
   "source": [
    "## 5 - p-valeur"
   ]
  },
  {
   "cell_type": "markdown",
   "id": "09a992d5",
   "metadata": {},
   "source": [
    "### 5.1 - Explication des fonctions Python"
   ]
  },
  {
   "cell_type": "markdown",
   "id": "7096c219",
   "metadata": {},
   "source": [
    "#### 5.1.1 - Fonction pExactlyKPointOutOfN"
   ]
  },
  {
   "cell_type": "markdown",
   "id": "b237ec58",
   "metadata": {},
   "source": [
    "Cette fonction calcule la probabilité qu'un événement avec une probabilité $p$ se produise exactement $k$ fois parmi $n$ essais.\n",
    "\n",
    "Elle utilise la formule suivante: $P(X = k) = \\binom{n}{k} p^k (1-p)^{n-k}$\n",
    "\n",
    "Où $\\binom{n}{k}$ représente le coefficient binomial, celui-ci représente le nombre de façons de choisir $k$ éléments distincts parmi un ensemble de $n$ éléments, sans tenir compte de l'ordre.\n",
    "Il se calcule de la manière suivante: $\\binom{n}{k} = \\frac{n!}{k! (n-k)!}$"
   ]
  },
  {
   "cell_type": "markdown",
   "id": "d4e2b8df",
   "metadata": {},
   "source": [
    "#### 5.1.2 - Fonction pAtLeastKPointOutOfN"
   ]
  },
  {
   "cell_type": "markdown",
   "id": "a811beae",
   "metadata": {},
   "source": [
    "Cette fonction calcule la probabilité qu'un événement avec une probabilité $p$ se produise au moins $k$ fois parmi $n$ essais.\n",
    "\n",
    "Elle utilise la formule suivante: $P(X \\geq k) = \\displaystyle\\sum_{i=k}^n P(X = i) $"
   ]
  },
  {
   "cell_type": "markdown",
   "id": "54269a2d",
   "metadata": {},
   "source": [
    "### 5.2 - Code Python"
   ]
  },
  {
   "cell_type": "code",
   "execution_count": 736,
   "id": "b3cc0d6d",
   "metadata": {},
   "outputs": [],
   "source": [
    "\"\"\"\n",
    "Calculate the probability that an event with probability p occurs exactly k times among n trials\n",
    "\n",
    ":k: int\n",
    ":n: int\n",
    ":p: float\n",
    "\n",
    ":return: float\n",
    "\"\"\"\n",
    "def pExactlyKPointOutOfN(k:int, n:int, p:float)->float:\n",
    "  coef_bi = math.factorial(n) / (math.factorial(k) * math.factorial(n - k))\n",
    "  return coef_bi * (p ** k) * ( (1 - p) ** (n - k) )\n",
    "\n",
    "\"\"\"\n",
    "Calculate the probability that an event with probability p occurs at least k times among n trials\n",
    "\n",
    ":k: int\n",
    ":n: int\n",
    ":p: float\n",
    "\n",
    ":return: float\n",
    "\"\"\"\n",
    "def pAtLeastKPointOutOfN(k:int, n:int, p:float)->float:\n",
    "  res = 0\n",
    "  for i in range(k, n + 1):\n",
    "    res += pExactlyKPointOutOfN(i, n, p) \n",
    "  return res * 100"
   ]
  },
  {
   "cell_type": "markdown",
   "id": "dd3f08bd",
   "metadata": {},
   "source": [
    "### 5.3 - Réponses aux questions"
   ]
  },
  {
   "cell_type": "markdown",
   "id": "e3e21431",
   "metadata": {},
   "source": [
    "Pour trouver que 1,76% est la probabilité qu'au moins 12 des 15 derniers points se situent au-dessus de la moyenne, on applique la formule $P(X \\geq k)$\n",
    "\n",
    "Où:\n",
    "- $p$ a pour valeur 0.5, car la probabilité qu'un élément se situe au-dessus de la moyenne est de 50%\n",
    "- $k$ a pour valeur 12\n",
    "- $n$ a pour valeur 15"
   ]
  },
  {
   "cell_type": "code",
   "execution_count": 737,
   "id": "6208f9b0",
   "metadata": {},
   "outputs": [
    {
     "name": "stdout",
     "output_type": "stream",
     "text": [
      "La probabilité qu'au moins 12 des 15 derniers points se situent au-dessus de la moyenne: 1.76%\n"
     ]
    }
   ],
   "source": [
    "print(\"La probabilité qu'au moins 12 des 15 derniers points se situent au-dessus de la moyenne: \" + str(round(pAtLeastKPointOutOfN(12, 15, 0.5), 2)) + \"%\")"
   ]
  },
  {
   "cell_type": "markdown",
   "id": "3985c980",
   "metadata": {},
   "source": [
    "\n",
    "---\n",
    "\n",
    "Pour trouver la probabilité qu'au moins 15 points sur les 20 derniers se situent du même côté de la moyenne, on applique la formule $P(X \\geq k)$.\n",
    "\n",
    "Où:\n",
    "- $p$ a pour valeur 0.5, car la probabilité qu'un élément se situe au-dessus de la moyenne est de 50%\n",
    "- $k$ a pour valeur 15\n",
    "- $n$ a pour valeur 20\n",
    "\n",
    "Grâce à celle-ci on obtient la probabilité qu'au moins 15 points sur les 20 derniers se situent au-dessus (ou en-dessous) de la moyenne, on multiplie donc cette probabilité par 2 pour prendre en compte les deux côtés."
   ]
  },
  {
   "cell_type": "code",
   "execution_count": 738,
   "id": "769a7623",
   "metadata": {},
   "outputs": [
    {
     "name": "stdout",
     "output_type": "stream",
     "text": [
      "La probabilité qu'au moins 15 des 20 derniers points se situent du même côté de la moyenne: 4.14%\n"
     ]
    }
   ],
   "source": [
    "print(\"La probabilité qu'au moins 15 des 20 derniers points se situent du même côté de la moyenne: \" + str(round(2 * pAtLeastKPointOutOfN(15, 20, 0.5), 2)) + \"%\")"
   ]
  },
  {
   "cell_type": "markdown",
   "id": "0ba0be9d",
   "metadata": {},
   "source": [
    "Cette règle semble intéressante, sa pvaleur est comprise entre 1% et 5%. Elle générera donc peu de faux positifs et ne devrait pas se déclencher trop tard."
   ]
  },
  {
   "cell_type": "markdown",
   "id": "66076e57",
   "metadata": {},
   "source": [
    "\n",
    "---\n",
    "\n",
    "Pour trouver la probabilité qu'au moins 8 points sur les 10 derniers se situent du même côté de la moyenne, on applique la formule $P(X \\geq k)$.\n",
    "\n",
    "Où:\n",
    "- $p$ a pour valeur 0.5, car la probabilité qu'un élément se situe au-dessus de la moyenne est de 50%\n",
    "- $k$ a pour valeur 8\n",
    "- $n$ a pour valeur 10\n",
    "\n",
    "Grâce à celle-ci on obtient la probabilité qu'au moins 8 points sur les 10 derniers se situent au-dessus (ou en-dessous) de la moyenne, on multiplie donc cette probabilité par 2 pour prendre en compte les deux côtés."
   ]
  },
  {
   "cell_type": "code",
   "execution_count": 739,
   "id": "fe20cc7c",
   "metadata": {},
   "outputs": [
    {
     "name": "stdout",
     "output_type": "stream",
     "text": [
      "La probabilité qu'au moins 8 des 10 derniers points se situent du même côté de la moyenne: 10.94%\n"
     ]
    }
   ],
   "source": [
    "print(\"La probabilité qu'au moins 8 des 10 derniers points se situent du même côté de la moyenne: \" + str(round(2 * pAtLeastKPointOutOfN(8, 10, 0.5), 2)) + \"%\")"
   ]
  },
  {
   "cell_type": "markdown",
   "id": "f6f587f1",
   "metadata": {},
   "source": [
    "Cette règle a une pvaleur élevée, elle n'est pas intéressante et générera beaucoup de faux positifs."
   ]
  },
  {
   "cell_type": "markdown",
   "id": "4a75ed69",
   "metadata": {},
   "source": [
    "\n",
    "---\n",
    "\n",
    "Pour trouver la probabilité qu'au moins 2 points sur les 7 derniers se situent en dehors de l'intervalle $[-2 \\cdot \\sigma, 2 \\cdot \\sigma]$, on applique la formule $P(X \\geq k)$.\n",
    "\n",
    "Où:\n",
    "- $p$ a pour valeur 0.046, car il y a environ $95,4\\% \\; (13,6 \\cdot 2 + 34,1 \\cdot 2 )$ des valeurs comprises dans l'intervalle, cela fait une probabilité de $4,6\\% \\; (100 - 95,4)$ d'être en dehors de celui-ci.\n",
    "- $k$ a pour valeur 2\n",
    "- $n$ a pour valeur 7"
   ]
  },
  {
   "cell_type": "code",
   "execution_count": 740,
   "id": "29db1731",
   "metadata": {},
   "outputs": [
    {
     "name": "stdout",
     "output_type": "stream",
     "text": [
      "La probabilité qu'au moins 2 points sur les 7 derniers se situent en dehors de l'intervalle [-2σ; 2σ]: 3.81%\n"
     ]
    }
   ],
   "source": [
    "print(\"La probabilité qu'au moins 2 points sur les 7 derniers se situent en dehors de l'intervalle [-2σ; 2σ]: \" + str(round(pAtLeastKPointOutOfN(2, 7, 0.046), 2)) + \"%\")"
   ]
  },
  {
   "cell_type": "markdown",
   "id": "72c4b392",
   "metadata": {},
   "source": [
    "Cette règle semble intéressante, sa pvaleur est comprise entre 1% et 5%. Elle générera donc peu de faux positifs et ne devrait pas se déclencher trop tard."
   ]
  },
  {
   "cell_type": "markdown",
   "id": "956f2f28",
   "metadata": {},
   "source": [
    "\n",
    "---\n",
    "\n",
    "Pour trouver la probabilité qu'au moins 7 points sur les 10 derniers se situent en dehors de l'intervalle $[-\\sigma, \\sigma]$, on applique la formule $P(X \\geq k)$.\n",
    "\n",
    "Où:\n",
    "- $p$ a pour valeur 0.318, car il y a environ $68,2\\% \\; (34,1 \\cdot 2 )$ des valeurs comprises dans l'intervalle, cela fait une probabilité de $31,8\\% \\; (100 - 68,2)$ d'être en dehors de celui-ci.\n",
    "- $k$ a pour valeur 7\n",
    "- $n$ a pour valeur 10"
   ]
  },
  {
   "cell_type": "code",
   "execution_count": 741,
   "id": "afaddc88",
   "metadata": {},
   "outputs": [
    {
     "name": "stdout",
     "output_type": "stream",
     "text": [
      "La probabilité qu'au moins 7 points sur les 10 derniers se situent en dehors de l'intervalle [-σ; σ]: 1.49%\n"
     ]
    }
   ],
   "source": [
    "print(\"La probabilité qu'au moins 7 points sur les 10 derniers se situent en dehors de l'intervalle [-σ; σ]: \" + str(round(pAtLeastKPointOutOfN(7, 10, 0.318), 2)) + \"%\")"
   ]
  },
  {
   "cell_type": "markdown",
   "id": "6531697b",
   "metadata": {},
   "source": [
    "Cette règle semble intéressante, sa pvaleur est comprise entre 1% et 5%. Elle générera donc peu de faux positifs et ne devrait pas se déclencher trop tard."
   ]
  },
  {
   "cell_type": "markdown",
   "id": "43c40353",
   "metadata": {},
   "source": [
    "### 5.4 - Implémentation des règles"
   ]
  },
  {
   "cell_type": "markdown",
   "id": "b60404d0",
   "metadata": {},
   "source": [
    "#### 5.4.1 - Fonction kPointOnTheLastNOnTheSameSide"
   ]
  },
  {
   "cell_type": "markdown",
   "id": "2638d02b",
   "metadata": {},
   "source": [
    "Cette fonction implémente la règle $k$ des $n$ derniers points se situent du même côté de la moyenne. Elle retournera vrai ou faux en fonction de si elle est déclenchée ou non.\n",
    "\n",
    "Elle prend en paramètre les données `data`, et les entiers `k` et `n`.\n",
    "\n",
    "Pour ce faire, elle itère sur les $n$ derniers points, et maintient à jour deux compteurs, un pour au-dessus et un pour en dessous de la moyenne.\n",
    "\n",
    "Elle vérifie si un des deux compteurs a une valeur supérieure ou égale à $k$."
   ]
  },
  {
   "cell_type": "markdown",
   "id": "608fc37a",
   "metadata": {},
   "source": [
    "#### 5.4.2 - Fonction kPointOnTheLastNOutsideInverval"
   ]
  },
  {
   "cell_type": "markdown",
   "id": "f201eaae",
   "metadata": {},
   "source": [
    "Cette fonction implémente la règle $k$ des $n$ derniers points se situent en dehors de l'intervalle $[-\\text{factor} \\cdot \\sigma, \\text{factor} \\cdot \\sigma]. Elle retournera vrai ou faux en fonction de si elle est déclenchée ou non.\n",
    "\n",
    "Elle prend en paramètre les données `data`, et les entiers `k`, `n` et `factor`.\n",
    "\n",
    "Pour ce faire, elle itère sur les `n` derniers points, et incrémente un compteur si la valeur est en dehors de l'intervalle.\n",
    "\n",
    "Elle vérifie si le compteur a une valeur supérieure ou égale à $k$."
   ]
  },
  {
   "cell_type": "markdown",
   "id": "7245e44e",
   "metadata": {},
   "source": [
    "#### 5.4.3 - Code Python et implémentation des règles"
   ]
  },
  {
   "cell_type": "code",
   "execution_count": 742,
   "id": "f475e752",
   "metadata": {},
   "outputs": [],
   "source": [
    "\"\"\"\n",
    "Implements the rule k of the last n points on the same side of the mean\n",
    "Returns true if triggered otherwise false.\n",
    "\n",
    ":data: List[float]\n",
    ":k: int\n",
    ":n: int\n",
    "\n",
    ":return: bool\n",
    "\"\"\"\n",
    "def kPointOnTheLastNOnTheSameSide(data:list[float], k:int, n:int)->bool: \n",
    "    count_up = 0\n",
    "    count_down = 0\n",
    "\n",
    "    avg = getAverageFromData(data)\n",
    "\n",
    "    for i in range(n):\n",
    "        if(data[-n + i] > avg):\n",
    "            count_up += 1\n",
    "        elif (data[-n + i] < avg):\n",
    "            count_down += 1\n",
    "\n",
    "    return count_up >= k or count_down >= k \n",
    "\n",
    "\"\"\"\n",
    "Implements the rule k of the last n points outside the interval [-factor*σ, factor*σ]\n",
    "Returns true if triggered otherwise false.\n",
    "\n",
    ":data: List[float]\n",
    ":k: int\n",
    ":n: int\n",
    ":factor: float\n",
    "\n",
    ":return: bool\n",
    "\"\"\"\n",
    "def kPointOnTheLastNOutsideInverval(data:list[float], k:int, n:int, factor:float)->bool:\n",
    "    count = 0\n",
    "    stddev = getStddevFromData(data)\n",
    "\n",
    "    for i in range(n):\n",
    "        if( data[-n + i] < -factor*stddev or data[-n + i] > factor*stddev ):\n",
    "            count += 1\n",
    "    \n",
    "    return count >= k\n",
    "\n",
    "data = getErrorValues()\n",
    "\n",
    "if(kPointOnTheLastNOnTheSameSide(data, 8, 10)):\n",
    "    print(\"Attention, 8 points sur les 10 derniers du même côté de la moyenne\")\n",
    "if(kPointOnTheLastNOutsideInverval(data, 2, 7, 2)):\n",
    "    print(\"Attention, 2 points sur les 7 derniers en dehors de l'intervalle [-2σ; 2σ]\")\n",
    "if(kPointOnTheLastNOutsideInverval(data, 7, 10, 1)):\n",
    "    print(\"Attention, 7 points sur les 10 derniers en dehors de l'intervalle [-σ; σ]\")"
   ]
  },
  {
   "cell_type": "markdown",
   "id": "039018f7",
   "metadata": {},
   "source": [
    "### 5.5 - Proposition et implémentation d'une règle de détection de défaillance"
   ]
  },
  {
   "cell_type": "markdown",
   "id": "1637c49d",
   "metadata": {},
   "source": [
    "#### 5.5.1 Proposition et calcul de la pvaleur de la règle"
   ]
  },
  {
   "cell_type": "markdown",
   "id": "321ca592",
   "metadata": {},
   "source": [
    "Une règle originale pourrait être de calculer la somme des valeurs absolues de la valeur d'erreur pour les $n$ dernières mesures, si cette somme dépasse un certain seuil, elle déclencherait une alerte.\n",
    "\n",
    "Cependant, pour cette règle, il peut être assez compliqué de calculer la pvaleur.\n",
    "\n",
    "Pour la calculer, la solution que l'on a trouvée est de générer un échantillon de données suffisamment grand (1 000 000 d'entrées) et d'incrémenter un compteur pour chaque plage de $n$ éléments si celle-ci déclenche la règle.\n",
    "\n",
    "Après quelques essais, voici la valeur du seuil et de $n$ que l'on a choisie:\n",
    "- $n = 3$\n",
    "- $\\text{seuil} = \\sigma \\times 1.5 \\times n$\n",
    "\n",
    "Le code Python ci-dessous permet de calculer la pvaleur de la règle."
   ]
  },
  {
   "cell_type": "code",
   "execution_count": 743,
   "id": "ab2078a5",
   "metadata": {},
   "outputs": [
    {
     "name": "stdout",
     "output_type": "stream",
     "text": [
      "L'alerte s'est déclenchée 35330 fois sur 999998. Soit: 3.5330070660141324%\n"
     ]
    }
   ],
   "source": [
    "test_data = numpy.random.normal(size=1000000) # Generate test data\n",
    "\n",
    "# Parameters\n",
    "n = 3\n",
    "threshold = getStddevFromData(test_data) * 1.5 * n\n",
    "\n",
    "current_sum = sum(abs(test_data[i]) for i in range(n))  # Initialize with the initial window sum\n",
    "alert_count = 1 if current_sum > threshold else 0       # Initialize the alert counter\n",
    "\n",
    "# Using sliding window to optimize sum calculations\n",
    "for i in range(n, len(test_data)):\n",
    "  current_sum -= abs(test_data[i - n])  # Subtract the first value from the previous window\n",
    "  current_sum += abs(test_data[i])      # Add the last value of the current window\n",
    "\n",
    "  # If the sum exceeds the threshold, increment the counter\n",
    "  if(current_sum > threshold):\n",
    "    alert_count += 1\n",
    "\n",
    "total_intervals = len(test_data) - n + 1\n",
    "p_value = alert_count / total_intervals\n",
    "print(\"L'alerte s'est déclenchée \" + str(alert_count) + \" fois sur \" + str(total_intervals) + \". Soit: \" + str(p_value * 100) + \"%\")"
   ]
  },
  {
   "cell_type": "markdown",
   "id": "ef8a34e0",
   "metadata": {},
   "source": [
    "Apràs avoir exécuté ce code plusieurs fois, les valeurs oscillent autour des 3,5%.\n",
    "\n",
    "Cette règle semble intéressante, sa pvaleur est comprise entre 1% et 5%. Elle générera donc peu de faux positifs et ne devrait pas se déclencher trop tard."
   ]
  },
  {
   "cell_type": "markdown",
   "id": "fb49b053",
   "metadata": {},
   "source": [
    "#### 5.5.2 - Code Python de l'implémentation"
   ]
  },
  {
   "cell_type": "markdown",
   "id": "d3e03379",
   "metadata": {},
   "source": [
    "La fonction sumForLastKPointsAboveThreshold implémente la règle que l'on a proposée.\n",
    "\n",
    "Elle prend en paramètre l'ensemble des données `data`, l'entier $n$ et le réel `threshold`."
   ]
  },
  {
   "cell_type": "code",
   "execution_count": 744,
   "id": "54d73f35",
   "metadata": {},
   "outputs": [],
   "source": [
    "\"\"\"\n",
    "Implements the rule sum of the absolute values of the last n points is greater than a threshold\n",
    "Returns true if triggered otherwise false.\n",
    "\n",
    ":data: List[float]\n",
    ":n: int\n",
    ":threshold: float\n",
    "\n",
    ":result: bool\n",
    "\"\"\"\n",
    "def sumForLastKPointsAboveThreshold(data:list[float], n:int, threshold:float)->bool:\n",
    "  s = 0\n",
    "\n",
    "  for i in range(n):\n",
    "    s += abs(data[-n + i])\n",
    "\n",
    "  return s >= threshold\n",
    "\n",
    "if(sumForLastKPointsAboveThreshold(data, n, threshold)):\n",
    "  print(\"Attention, la somme de la valeur absolue des \" + str(n) + \" derniers points dépasse le seuil de tolérance \" + str(threshold))"
   ]
  },
  {
   "cell_type": "markdown",
   "id": "72252297",
   "metadata": {},
   "source": [
    "## 6 - Dérive et régression"
   ]
  },
  {
   "cell_type": "markdown",
   "id": "4ffed6a9",
   "metadata": {},
   "source": [
    "### 6.1 - Explication des fonctions Python"
   ]
  },
  {
   "cell_type": "markdown",
   "id": "4ee3e9b8",
   "metadata": {},
   "source": [
    "#### 6.1.1 - Fonction covariance"
   ]
  },
  {
   "cell_type": "markdown",
   "id": "996a00db",
   "metadata": {},
   "source": [
    "Cette fonction calcule la covariance des deux liste passé en paramètre `list_x` et `list_y`\n",
    "\n",
    "Elle utilise la formule suivante: $\\text{Cov}(X, Y) = \\frac{1}{n} \\displaystyle\\sum_{i=1}^n (x_{i}-\\bar{x})(y_{i}-\\bar{y})$\n",
    "\n",
    "Où $\\bar{x}$ représente la moyenne de `list_x` et $\\bar{y}$ représente la moyenne de `list_y`."
   ]
  },
  {
   "cell_type": "markdown",
   "id": "9f2bcfa6",
   "metadata": {},
   "source": [
    "### 6.1.2 - Fonction regressionLine"
   ]
  },
  {
   "cell_type": "markdown",
   "id": "7f83c934",
   "metadata": {},
   "source": [
    "Cette fonction calcule la pente $(m)$ et l'ordonnée à l'origine $(b)$ de la droite de régression.\n",
    "\n",
    "Elle utilise la formule suivante pour calculer la pente: $m = \\frac{\\text{Cov}(X, Y)}{(\\sigma_{x})^2}$\n",
    "\n",
    "Où $\\sigma_{x}$ est l'écart type de `list_x`\n",
    "\n",
    "Elle utilise la formule suivante pour calculer l'ordonnée à l'origine: $b = \\bar{y} - m \\times \\bar{x}$\n",
    "\n",
    "Où $\\bar{x}$ et $\\bar{y}$ représente respectivement les moyennes de `list_x` et `list_y`."
   ]
  },
  {
   "cell_type": "markdown",
   "id": "d98a688e",
   "metadata": {},
   "source": [
    "### 6.1.3 - Fonction showControlCardWithRegressionLine"
   ]
  },
  {
   "cell_type": "markdown",
   "id": "f91d2380",
   "metadata": {},
   "source": [
    "Cette fonction affiche la carte de contrôle avec la droite de régression en utilisant matplotlib\n",
    "\n",
    "Elle est séparée en 3 sections:\n",
    "- La récupération des données, en utilisant les fonctions précédentes.\n",
    "- Le calcul des coordonnées de départ et de fin du segment\n",
    "- Le traçage des différentes courbes\n",
    "\n",
    "À noter que dans un notebook jupyter, on n'est pas obligé d'appeler `plt.show()` pour afficher un graphique. Pour éviter de recopier le code de la carte de contrôle, on exploite cette particularité."
   ]
  },
  {
   "cell_type": "markdown",
   "id": "5915ab81",
   "metadata": {},
   "source": [
    "### 6.2 - Code Python"
   ]
  },
  {
   "cell_type": "code",
   "execution_count": 745,
   "id": "a2e6d42f",
   "metadata": {},
   "outputs": [],
   "source": [
    "\"\"\"\n",
    "Calculate the covariance of the two input lists\n",
    "\n",
    ":list_x: list[float]\n",
    ":list_y: list[float]\n",
    "\n",
    ":return: float\n",
    "\"\"\"\n",
    "def covariance(list_x:list[float], list_y:list[float])->float:\n",
    "  avg_x = getAverageFromData(list_x)\n",
    "  avg_y = getAverageFromData(list_y)\n",
    "\n",
    "  s = 0\n",
    "\n",
    "  for i in range(len(list_x)):\n",
    "    s += (list_x[i] - avg_x) * (list_y[i] - avg_y)\n",
    "\n",
    "  return s / len(list_x)\n",
    "\n",
    "\"\"\"\n",
    "Calculate the slope and ordinate intercept for the regression line from the two input lists.\n",
    "\n",
    ":list_x: list[float]\n",
    ":list_y: list[float]\n",
    "\n",
    ":return: tuple[float, float]\n",
    "\"\"\"\n",
    "def regressionLine(list_x:list[float], list_y:list[float])->tuple[float, float]:\n",
    "  avg_x = getAverageFromData(list_x)\n",
    "  avg_y = getAverageFromData(list_y)\n",
    "\n",
    "  slope = covariance(list_x, list_y) / (getStddevFromData(list_x) ** 2)\n",
    "  ordinate_intercept = avg_y - slope * avg_x\n",
    "\n",
    "  return slope, ordinate_intercept\n",
    "\n",
    "\"\"\"\n",
    "Show control chart with regression line\n",
    "\"\"\"\n",
    "def showControlCardWithRegressionLine():\n",
    "  data = getDataControlCard()\n",
    "\n",
    "  # Get the last 10 values ​​for the regression line\n",
    "  list_x = [ int(value[1].timestamp()) for value in data[-10:] ]\n",
    "  list_y = [ value[0] for value in data[-10:] ]\n",
    "\n",
    "  # Get the coefficiants necessary to create the line regression\n",
    "  a, b = regressionLine(list_x, list_y) \n",
    "\n",
    "  # Calculate the start and end point of the segment\n",
    "  x1 = int(data[-10][1].timestamp())\n",
    "  y1 = a * x1 + b\n",
    "\n",
    "  x2 = int(data[-1][1].timestamp())\n",
    "  y2 = a * x2 + b\n",
    "\n",
    "  # Show Data with regression line\n",
    "  showControlCard()\n",
    "  plt.plot([data[-10][1], data[-1][1]], [y1, y2], c=\"purple\", label=\"Regression line\")\n",
    "  plt.legend(bbox_to_anchor=(1, 1))"
   ]
  },
  {
   "cell_type": "markdown",
   "id": "eb427fbb",
   "metadata": {},
   "source": [
    "### 6.3 - Carte de contrôle avec droite de régression"
   ]
  },
  {
   "cell_type": "code",
   "execution_count": 746,
   "id": "71a1a6d1",
   "metadata": {},
   "outputs": [
    {
     "data": {
      "image/png": "[encoded data removed]",
      "text/plain": [
       "<Figure size 1200x800 with 1 Axes>"
      ]
     },
     "metadata": {},
     "output_type": "display_data"
    }
   ],
   "source": [
    "showControlCardWithRegressionLine()"
   ]
  }
 ],
 "metadata": {
  "kernelspec": {
   "display_name": "Python 3",
   "language": "python",
   "name": "python3"
  },
  "language_info": {
   "codemirror_mode": {
    "name": "ipython",
    "version": 3
   },
   "file_extension": ".py",
   "mimetype": "text/x-python",
   "name": "python",
   "nbconvert_exporter": "python",
   "pygments_lexer": "ipython3",
   "version": "3.13.3"
  }
 },
 "nbformat": 4,
 "nbformat_minor": 5
}
