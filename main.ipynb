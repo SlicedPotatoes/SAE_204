{
 "cells": [
  {
   "cell_type": "markdown",
   "id": "f87c8766",
   "metadata": {},
   "source": [
    "# SAÉ 2.04"
   ]
  },
  {
   "cell_type": "markdown",
   "id": "b7cf6337",
   "metadata": {},
   "source": [
    "## 0 - Connexion a la BDD"
   ]
  },
  {
   "cell_type": "code",
   "execution_count": 235,
   "id": "18cffba3",
   "metadata": {},
   "outputs": [],
   "source": [
    "import psycopg\n",
    "import matplotlib.pyplot as plt\n",
    "import matplotlib.colors as mcolors\n",
    "import numpy\n",
    "from datetime import timedelta, datetime\n",
    "\n",
    "\n",
    "# Connexion settings\n",
    "conn_settings = {\n",
    "  \"host\": \"localhost\",\n",
    "  \"dbname\": \"db\",\n",
    "  \"user\": \"postgres\",\n",
    "  \"password\": \"patate360\",\n",
    "  \"port\": 5432\n",
    "}\n",
    "\n",
    "conn = psycopg.connect(**conn_settings)\n",
    "\n",
    "idSensor = 6 # Constant to select the sensor"
   ]
  },
  {
   "cell_type": "code",
   "execution_count": 236,
   "id": "eeff60b3",
   "metadata": {},
   "outputs": [],
   "source": [
    "# Check if the sensor exists in the database\n",
    "sql = \"\"\"\n",
    "SELECT * FROM Sensor WHERE sensorid = %(id)s \n",
    "\"\"\"\n",
    "\n",
    "param = {\"id\": idSensor}\n",
    "\n",
    "with conn.execute(sql, param) as cur:\n",
    "  row = cur.fetchone()\n",
    "  if(row == None):\n",
    "    raise Exception(\"No sensor associated with this id\")"
   ]
  },
  {
   "cell_type": "markdown",
   "id": "d17f39b8",
   "metadata": {},
   "source": [
    "## 1 - Cartes de contrôle"
   ]
  },
  {
   "cell_type": "code",
   "execution_count": 237,
   "id": "b0d39728",
   "metadata": {},
   "outputs": [],
   "source": [
    "\"\"\"\n",
    "Get the last manual measurement for the selected sensor\n",
    "\n",
    ":return: datetime with the last measure\n",
    "\"\"\"\n",
    "def getLastMeasure()->datetime: \n",
    "  sql = \"\"\"\n",
    "  SELECT max(controltimestamp) FROM controlMeasurement\n",
    "  WHERE sensorid = %(id)s \n",
    "  \"\"\"\n",
    "\n",
    "  param = {\"id\": idSensor}\n",
    "\n",
    "  with conn.execute(sql, param) as cur:\n",
    "    return cur.fetchone()[0]"
   ]
  },
  {
   "cell_type": "code",
   "execution_count": 238,
   "id": "6f08b05f",
   "metadata": {},
   "outputs": [],
   "source": [
    "\"\"\"\n",
    "Get the error values for the last 8 days up to a limit of 100 items, \n",
    "and if the number of items is less than 20, extend the period bayond 8 days.\n",
    "Each error value is associated with the time the measurements were made\n",
    "\n",
    ":return: list[tuple[float, datetime]] Each tuple contains the erreur value and the timestamp corresponding to the measurement time\n",
    "\"\"\"\n",
    "def getDataControlCard()->list[tuple[float, datetime]]: \n",
    "  # Used to retrieve values within an 8 days interval from the last measurement\n",
    "  limitDays = getLastMeasure() - timedelta(days = 8)\n",
    "\n",
    "  sql = \"\"\"\n",
    "  SELECT controlValue - sensorValue, cm.controltimestamp\n",
    "  FROM ControlMeasurement cm\n",
    "  JOIN SensorMeasurement sm ON cm.sensorid = sm.sensorid AND cm.sensortimestamp = sm.timestamp\n",
    "  WHERE cm.sensorid = %(id)s\n",
    "  ORDER BY cm.controltimestamp DESC\n",
    "  LIMIT 100\n",
    "  \"\"\"\n",
    "\n",
    "  param = {\"id\": idSensor}\n",
    "\n",
    "  with conn.execute(sql, param) as cur:\n",
    "    rows = []\n",
    "    line = cur.fetchone()\n",
    "    \n",
    "    # Guarantee that we have at least 20 values to display\n",
    "    while(line != None and (len(rows) < 20 or line[1] >= limitDays)):\n",
    "      rows.append(line)\n",
    "      line = cur.fetchone()\n",
    "\n",
    "    # Reverse the list to have the data in the correct order\n",
    "    rows.reverse()\n",
    "    return rows"
   ]
  },
  {
   "cell_type": "code",
   "execution_count": 239,
   "id": "e85e77fc",
   "metadata": {},
   "outputs": [],
   "source": [
    "\"\"\"\n",
    "Get the average of the erreur values\n",
    "\n",
    ":return: float\n",
    "\"\"\"\n",
    "def getAvgErrorValue()->float:\n",
    "  sql = \"\"\"\n",
    "    SELECT avg(controlValue - sensorValue)\n",
    "    FROM ControlMeasurement cm\n",
    "    JOIN SensorMeasurement sm ON cm.sensorid = sm.sensorid AND cm.sensortimestamp = sm.timestamp\n",
    "    WHERE cm.sensorid = %(id)s;\n",
    "  \"\"\"\n",
    "\n",
    "  param = {\"id\": idSensor}\n",
    "\n",
    "  with conn.execute(sql, param) as cur:\n",
    "    return cur.fetchone()[0]"
   ]
  },
  {
   "cell_type": "code",
   "execution_count": 240,
   "id": "5823d145",
   "metadata": {},
   "outputs": [],
   "source": [
    "\"\"\"\n",
    "Get the standard deviation of the error values\n",
    "\n",
    ":return: float\n",
    "\"\"\"\n",
    "def getStddevErrorValue()->float:\n",
    "  sql = \"\"\"\n",
    "    SELECT stddev(controlValue - sensorValue)\n",
    "    FROM ControlMeasurement cm\n",
    "    JOIN SensorMeasurement sm ON cm.sensorid = sm.sensorid AND cm.sensortimestamp = sm.timestamp\n",
    "    WHERE cm.sensorid = %(id)s;\n",
    "  \"\"\"\n",
    "\n",
    "  param = {\"id\": idSensor}\n",
    "\n",
    "  with conn.execute(sql, param) as cur:\n",
    "    return cur.fetchone()[0]"
   ]
  },
  {
   "cell_type": "code",
   "execution_count": 241,
   "id": "f475ffbe",
   "metadata": {},
   "outputs": [],
   "source": [
    "# Show control chart\n",
    "def showControlCard()->None:\n",
    "  # Get data needed for display\n",
    "  data = getDataControlCard()\n",
    "  avg = getAvgErrorValue()\n",
    "  stddev = getStddevErrorValue()\n",
    "  print(stddev)\n",
    "\n",
    "  # Format the data\n",
    "  x = []\n",
    "  y = []\n",
    "  for el in data:\n",
    "    y.append(el[0])\n",
    "    x.append(el[1])\n",
    "\n",
    "  # Show Data\n",
    "  plt.figure(figsize=(12, 8))\n",
    "  plt.plot(x, y, label='Datas')\n",
    "  plt.plot([data[0][1], data[-1][1]], [avg, avg], label='Average')\n",
    "  plt.plot([data[0][1], data[-1][1]], [avg + 2 * stddev, avg + 2 * stddev], c=\"Red\", lw=2, label='Upper Control Limit')\n",
    "  plt.plot([data[0][1], data[-1][1]], [avg - 2 * stddev, avg - 2 * stddev], c=\"Black\", lw=2, label='Lower Control Limit')\n",
    "  \n",
    "  # Cosmetic\n",
    "  plt.title('Control Chart')\n",
    "  plt.xlabel('Time')\n",
    "  plt.ylabel('Error measurement')\n",
    "  plt.legend(bbox_to_anchor=(1, 1)) # Place the legend outside the chart\n",
    "  plt.xticks(rotation=30) # For better readability"
   ]
  },
  {
   "cell_type": "code",
   "execution_count": 242,
   "id": "2e0f5e8a",
   "metadata": {},
   "outputs": [
    {
     "name": "stdout",
     "output_type": "stream",
     "text": [
      "0.12276749191486094\n"
     ]
    },
    {
     "data": {
      "image/png": "[encoded data removed]",
      "text/plain": [
       "<Figure size 1200x800 with 1 Axes>"
      ]
     },
     "metadata": {},
     "output_type": "display_data"
    }
   ],
   "source": [
    "showControlCard()"
   ]
  },
  {
   "cell_type": "markdown",
   "id": "be01509c",
   "metadata": {},
   "source": [
    "## 2 - Statistiques\n",
    "### 2.1 - Visualisation des marges d'erreur"
   ]
  },
  {
   "cell_type": "code",
   "execution_count": 243,
   "id": "d14790c5",
   "metadata": {},
   "outputs": [],
   "source": [
    "\"\"\"\n",
    "Get error values from the database\n",
    "\n",
    ":return: list[float]\n",
    "\"\"\"\n",
    "def getErrorValues()->list[float]:\n",
    "  sql = \"\"\"\n",
    "    SELECT controlValue - sensorValue\n",
    "    FROM ControlMeasurement cm\n",
    "    JOIN SensorMeasurement sm ON cm.sensorid = sm.sensorid AND cm.sensortimestamp = sm.timestamp\n",
    "    WHERE cm.sensorid = %(id)s\n",
    "  \"\"\"\n",
    "\n",
    "  param = {\"id\": idSensor}\n",
    "\n",
    "  with conn.execute(sql, param) as cur:\n",
    "    return [row[0] for row in cur]"
   ]
  },
  {
   "cell_type": "code",
   "execution_count": 244,
   "id": "1c4a5ebe",
   "metadata": {},
   "outputs": [],
   "source": [
    "\"\"\"\n",
    "Calculate the distribution of values in a data set based on intervals defined by multiples of the standard deviation.\n",
    "\n",
    ":data: list[float]\n",
    ":factor: int, maximum multiple of the standard deviation to study\n",
    "\n",
    ":return: list[float]\n",
    "\"\"\"\n",
    "def getDistributionByStdIntervals(data:list[float], factor:int)->list[float]:\n",
    "  # Initialize a list of counters. The indexes correspond to intervals defined by multiples of the standard deviation.\n",
    "  # The structure is organized as follows:\n",
    "  # [ [-σ; 0], ]0; σ], ...,  [-factor*σ; -(factor+1)*σ[, ](factor-1)*σ; factor*σ], < -factor*σ, > factor*σ ]\n",
    "  counts = [0 for _ in range(factor * 2 + 2)]\n",
    "\n",
    "  std_dev = numpy.std(data)\n",
    "\n",
    "  # Loops through the data values to distribute them into the corresponding intervals.\n",
    "  for value in data:\n",
    "    # Determines the index of the interval corresponding to the value based on the standard deviation.\n",
    "    # The interval is calculated by taking the absolute value divided by the standard deviation.\n",
    "    interval_index = int(abs(value) // std_dev)\n",
    "    # Corrects the index to avoid errors due to exact divisions (if the value is a multiple of the standard deviation).\n",
    "    if(abs(value) % std_dev == 0 and value != 0):\n",
    "      interval_index -= 1\n",
    "\n",
    "    # Updates the counter corresponding to the interval.\n",
    "    # If the index exceeds the limit define by \"factor\", increment the counter of out-of-bounds values.\n",
    "    if (interval_index >= factor):\n",
    "      counts[-1 if value > 0 else -2] += 1\n",
    "    else:\n",
    "      counts[interval_index * 2 + (1 if value > 0 else 0)] += 1\n",
    "\n",
    "  # Converts counts to percentages of the total data.\n",
    "  # Organize the results in the following order:\n",
    "  # [< -factor*σ, [-factor*σ; -(factor+1)*σ[, ..., [-σ; 0], ]0; σ], ..., ](factor-1)*σ; factor*σ], > factor*σ]\n",
    "  percentages = []\n",
    "  for i in range(len(counts) - 2, -1, -2):\n",
    "    percentages.append(round(counts[i] / len(data) * 100, 2))\n",
    "  for i in range(1, len(counts), 2):\n",
    "    percentages.append(round(counts[i] / len(data) * 100, 2))\n",
    "\n",
    "  return percentages"
   ]
  },
  {
   "cell_type": "code",
   "execution_count": 245,
   "id": "d56904a2",
   "metadata": {},
   "outputs": [],
   "source": [
    "\"\"\"\n",
    "Return the percentage of value included and excluded from the interval [-factor*σ; factor*σ] \n",
    "\n",
    ":distribution: list[float], obtained with the getDistributionByStdIntervals() function\n",
    ":factor: int\n",
    "\n",
    ":return: tuple[float, float] where the first element represents the proportion of values included in the interval and the second the proportion excluded\n",
    "\"\"\"\n",
    "def getPercentageInterval(distribution:list[float], factor:int)->tuple[float, float]:\n",
    "  factor -= 1\n",
    "  \n",
    "  startNeg = len(distribution) // 2 - 1 - factor\n",
    "  startPos = len(distribution) // 2 + factor\n",
    "\n",
    "  res = 0\n",
    "\n",
    "  while(startPos > startNeg):\n",
    "    res += distribution[startNeg]\n",
    "    res += distribution[startPos]\n",
    "\n",
    "    startNeg += 1\n",
    "    startPos -= 1\n",
    "\n",
    "  return round(res, 2), round(100 - res, 2)"
   ]
  },
  {
   "cell_type": "code",
   "execution_count": 246,
   "id": "a7f5bb1a",
   "metadata": {},
   "outputs": [],
   "source": [
    "\"\"\"\n",
    "Display the histogram of data distributions\n",
    "\n",
    ":distribution: list[float], obtained with the getDistributionByStdIntervals() function\n",
    ":factor: int\n",
    "\"\"\"\n",
    "def showDistribution(distribution:list[float], factor:int)->None:\n",
    "  # Generate the labels\n",
    "  labels = [str(-i) + 'σ' for i in range(factor, 0, -1)] + ['0'] + [str(i) + 'σ' for i in range(1, factor + 1)]\n",
    "\n",
    "  # Generate nuanced colors based on percentage in the distribution\n",
    "  norm = plt.Normalize(0, 100)\n",
    "  base_color = mcolors.to_rgba('#135B8B')\n",
    "  colors = [(base_color[0], base_color[1], base_color[2], min(1, norm(value) + 0.5)) for value in distribution]\n",
    "\n",
    "  plt.figure(figsize=(12, 8))\n",
    "\n",
    "  # Build the  histogram\n",
    "  x_pos = [i for i in range(len(distribution))]\n",
    "  plt.bar(x_pos, distribution, color=colors, width=1, align='edge')\n",
    "\n",
    "  # Show percentages above bars\n",
    "  for i, value in enumerate(distribution):\n",
    "    plt.text(i + 0.5, value + 0.2, str(value) + '%', ha='center', va='bottom')\n",
    "\n",
    "  # Label management\n",
    "  x_pos = [i for i in range(1, len(distribution))]\n",
    "  plt.xticks(ticks=x_pos, labels=labels)"
   ]
  },
  {
   "cell_type": "code",
   "execution_count": 247,
   "id": "b873de83",
   "metadata": {},
   "outputs": [
    {
     "name": "stdout",
     "output_type": "stream",
     "text": [
      "Distribution: [0.0, 1.97, 16.67, 33.77, 32.24, 11.84, 3.51, 0.0] 100.0\n",
      "Question 2.1.1: Dans l'intervale [-σ; σ], il y a 66.01% des points\n",
      "\tQuestion 2.1.4: En dehors de cet intervale, il y a 33.99% des points\n",
      "\n",
      "Question 2.1.2: Dans l'intervale [-2σ; 2σ], il y a 94.52% des points\n",
      "\tQuestion 2.1.4: En dehors de cet intervale, il y a 5.48% des points\n",
      "\n",
      "Question 2.1.3: Dans l'intervale [-3σ; 3σ], il y a 100.0% des points\n",
      "\tQuestion 2.1.4: En dehors de cet intervale, il y a 0.0% des points\n",
      "\n"
     ]
    },
    {
     "data": {
      "image/png": "[encoded data removed]",
      "text/plain": [
       "<Figure size 1200x800 with 1 Axes>"
      ]
     },
     "metadata": {},
     "output_type": "display_data"
    }
   ],
   "source": [
    "factor = 3\n",
    "data = getErrorValues()\n",
    "distribution = getDistributionByStdIntervals(data, factor)\n",
    "\n",
    "showDistribution(distribution, factor)\n",
    "\n",
    "print(\"Distribution:\", distribution, sum(distribution))\n",
    "\n",
    "res_q1 = getPercentageInterval(distribution, 1)\n",
    "res_q2 = getPercentageInterval(distribution, 2)\n",
    "res_q3 = getPercentageInterval(distribution, 3)\n",
    "\n",
    "print(\"Question 2.1.1: Dans l'intervale [-σ; σ], il y a \" + str(res_q1[0]) + \"% des points\")\n",
    "print(\"\\tQuestion 2.1.4: En dehors de cet intervale, il y a \" + str(res_q1[1]) + \"% des points\\n\")\n",
    "print(\"Question 2.1.2: Dans l'intervale [-2σ; 2σ], il y a \" + str(res_q2[0]) + \"% des points\")\n",
    "print(\"\\tQuestion 2.1.4: En dehors de cet intervale, il y a \" + str(res_q2[1]) + \"% des points\\n\")\n",
    "print(\"Question 2.1.3: Dans l'intervale [-3σ; 3σ], il y a \" + str(res_q3[0]) + \"% des points\")\n",
    "print(\"\\tQuestion 2.1.4: En dehors de cet intervale, il y a \" + str(res_q3[1]) + \"% des points\\n\")"
   ]
  },
  {
   "cell_type": "markdown",
   "id": "3225f3f9",
   "metadata": {},
   "source": [
    "### 2.2 - p-valeur"
   ]
  },
  {
   "cell_type": "markdown",
   "id": "d79bb6fd",
   "metadata": {},
   "source": [
    "#### Formule utilisée\n",
    "\n",
    "##### Probabilité qu'un événement avec une probabilité $p$ arrive exactement $k$ fois parmi $n$ essais:\n",
    "$$\n",
    "P(X = k) = \\binom{n}{k} p^k (1-p)^{n-k}\n",
    "$$\n",
    "\n",
    "##### Coefficient binomial\n",
    "Représente le nombre de façons de choisir $k$ éléments distincts parmi un ensemble de $n$ éléments, sans tenir compte de l'ordre.\n",
    "\n",
    "$$\n",
    "\\binom{n}{k} = \\frac{n!}{k! (n-k)!}\n",
    "$$\n",
    "\n",
    "##### Probabilité qu'un événement avec une probabilité $p$ arrive au moins $k$ fois parmi $n$ essais:\n",
    "$$\n",
    "P(X \\geq k) = \\sum_{i=k}^n P(X = i)\n",
    "$$"
   ]
  },
  {
   "cell_type": "code",
   "execution_count": 248,
   "id": "de0f1c99",
   "metadata": {},
   "outputs": [],
   "source": [
    "\"\"\"\n",
    "Calculate the factorial of n\n",
    "\n",
    ":n: int\n",
    "\n",
    ":return: int\n",
    "\"\"\"\n",
    "def factorial(n:int)->int:\n",
    "  res = 1\n",
    "  for i in range(2, n+1):\n",
    "    res *= i\n",
    "  return res"
   ]
  },
  {
   "cell_type": "code",
   "execution_count": 249,
   "id": "b7d23f4f",
   "metadata": {},
   "outputs": [],
   "source": [
    "\"\"\"\n",
    "Calculate the probability that an event with probability p occurs exactly k times among n trials\n",
    "\n",
    ":k: int\n",
    ":n: int\n",
    ":p: float\n",
    "\n",
    ":return: float\n",
    "\"\"\"\n",
    "def pExactlyKPointOutOfN(k:int, n:int, p:float)->float:\n",
    "  coefBi = factorial(n) / (factorial(k) * factorial(n - k))\n",
    "  return coefBi * (p ** k) * ( (1 - p) ** (n - k) )"
   ]
  },
  {
   "cell_type": "code",
   "execution_count": 250,
   "id": "b3cc0d6d",
   "metadata": {},
   "outputs": [],
   "source": [
    "\"\"\"\n",
    "Calculate the probability that an event with probability p occurs at least k times among n trials\n",
    "\n",
    ":k: int\n",
    ":n: int\n",
    ":p: float\n",
    "\n",
    ":return: float\n",
    "\"\"\"\n",
    "def pAtLeastKPointOutOfN(k:int, n:int, p:float)->float:\n",
    "  res = 0\n",
    "  for i in range(k, n + 1):\n",
    "    res += pExactlyKPointOutOfN(i, n, p) \n",
    "  return round(res * 100, 2)"
   ]
  },
  {
   "cell_type": "code",
   "execution_count": 251,
   "id": "ec3b4115",
   "metadata": {},
   "outputs": [
    {
     "name": "stdout",
     "output_type": "stream",
     "text": [
      "Application de la formule pour la probabilité qu'au moins 12 des 15 derniers points se situent au-dessus de la moyenne: 1.76%\n",
      "Application de la formule pour la probabilité qu'au moins 15 des 20 derniers points se situent du même côté moyenne: 4.14%\n",
      "pValeur pour au moins 8 points sur les 10 derniers du même côté de la moyenne: 5.47%\n",
      "pValeur pour au moins 2 points sur les 7 derniers en dehors de l'intervalle [-2σ; 2σ]: 3.7%\n",
      "pValeur pour au moins 7 points sur les 10 derniers en dehors de l'intervalle [-σ; σ]: 1.48%\n"
     ]
    }
   ],
   "source": [
    "test_data = numpy.random.normal(size=(1, 1000000))[0] # Generate test data\n",
    "distribution_test_data = getDistributionByStdIntervals(test_data, 3) # Retrieve the distribution\n",
    "#showDistribution(distribution_test_data, 3)\n",
    "\n",
    "print(\"Application de la formule pour la probabilité qu'au moins 12 des 15 derniers points se situent au-dessus de la moyenne: \" + str(pAtLeastKPointOutOfN(12, 15, 0.5)) + \"%\")\n",
    "print(\"Application de la formule pour la probabilité qu'au moins 15 des 20 derniers points se situent du même côté moyenne: \" + str(2*pAtLeastKPointOutOfN(15, 20, 0.5)) + \"%\")\n",
    "print(\"pValeur pour au moins 8 points sur les 10 derniers du même côté de la moyenne: \" + str(pAtLeastKPointOutOfN(8, 10, 0.5)) + \"%\")\n",
    "print(\"pValeur pour au moins 2 points sur les 7 derniers en dehors de l'intervalle [-2σ; 2σ]: \" + str(pAtLeastKPointOutOfN(2, 7, getPercentageInterval(distribution_test_data, 2)[1] / 100)) + \"%\")\n",
    "print(\"pValeur pour au moins 7 points sur les 10 derniers en dehors de l'intervalle [-σ; σ]: \" + str(pAtLeastKPointOutOfN(7, 10, getPercentageInterval(distribution_test_data, 1)[1] / 100)) + \"%\")\n"
   ]
  },
  {
   "cell_type": "code",
   "execution_count": 252,
   "id": "f475e752",
   "metadata": {},
   "outputs": [
    {
     "name": "stdout",
     "output_type": "stream",
     "text": [
      "Attention, 2 points sur les 7 derniers en dehors de l'intervalle [-2σ; 2σ]\n"
     ]
    }
   ],
   "source": [
    "def kPointOnTheLastNOnTheSameSide(data, k, n): \n",
    "    count_up = 0\n",
    "    count_down = 0\n",
    "\n",
    "    avg = numpy.average(data)\n",
    "\n",
    "    for i in range(0, n):\n",
    "        if(data[-n + i] > avg):\n",
    "            count_up += 1\n",
    "        elif (data[-n + i] < avg):\n",
    "            count_down += 1\n",
    "\n",
    "    return count_up >= k or count_down >= k \n",
    "\n",
    "def kPointOnTheLastNOutsideInverval(data, k, n, factor):\n",
    "    count = 0\n",
    "    stddev = numpy.std(data)\n",
    "\n",
    "    for i in range(0, n):\n",
    "        if( data[-n + i] < -factor*stddev or data[-n + i] > factor*stddev ):\n",
    "            count += 1\n",
    "    \n",
    "    return count >= k\n",
    "\n",
    "data = getErrorValues()\n",
    "distribution = getDistributionByStdIntervals(data, factor)\n",
    "\n",
    "if(kPointOnTheLastNOnTheSameSide(data, 8, 10)):\n",
    "    print(\"Attention, 8 points sur les 10 derniers du même côté de la moyenne\")\n",
    "if(kPointOnTheLastNOutsideInverval(data, 2, 7, 2)):\n",
    "    print(\"Attention, 2 points sur les 7 derniers en dehors de l'intervalle [-2σ; 2σ]\")\n",
    "if(kPointOnTheLastNOutsideInverval(data, 7, 10, 1)):\n",
    "    print(\"Attention, 7 points sur les 10 derniers en dehors de l'intervalle [-σ; σ]\")"
   ]
  }
 ],
 "metadata": {
  "kernelspec": {
   "display_name": "Python 3",
   "language": "python",
   "name": "python3"
  },
  "language_info": {
   "codemirror_mode": {
    "name": "ipython",
    "version": 3
   },
   "file_extension": ".py",
   "mimetype": "text/x-python",
   "name": "python",
   "nbconvert_exporter": "python",
   "pygments_lexer": "ipython3",
   "version": "3.12.6"
  }
 },
 "nbformat": 4,
 "nbformat_minor": 5
}
